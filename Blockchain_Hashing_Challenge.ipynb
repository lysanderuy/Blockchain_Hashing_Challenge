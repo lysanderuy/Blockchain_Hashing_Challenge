{
  "nbformat": 4,
  "nbformat_minor": 0,
  "metadata": {
    "colab": {
      "provenance": []
    },
    "kernelspec": {
      "name": "python3",
      "display_name": "Python 3"
    },
    "language_info": {
      "name": "python"
    }
  },
  "cells": [
    {
      "cell_type": "markdown",
      "source": [
        "## Blockchain Hashing Challenge"
      ],
      "metadata": {
        "id": "Gtz40XBP_gGa"
      }
    },
    {
      "cell_type": "markdown",
      "source": [
        "## **1. Import Required Library**\n"
      ],
      "metadata": {
        "id": "yNEvo_qc_lpk"
      }
    },
    {
      "cell_type": "code",
      "source": [
        "!pip install gradio"
      ],
      "metadata": {
        "colab": {
          "base_uri": "https://localhost:8080/"
        },
        "id": "u9bvgeovB1qN",
        "outputId": "966ecc70-5dc9-4067-d064-41a8509815ad"
      },
      "execution_count": 2,
      "outputs": [
        {
          "output_type": "stream",
          "name": "stdout",
          "text": [
            "Collecting gradio\n",
            "  Downloading gradio-5.20.1-py3-none-any.whl.metadata (16 kB)\n",
            "Collecting aiofiles<24.0,>=22.0 (from gradio)\n",
            "  Downloading aiofiles-23.2.1-py3-none-any.whl.metadata (9.7 kB)\n",
            "Requirement already satisfied: anyio<5.0,>=3.0 in /usr/local/lib/python3.11/dist-packages (from gradio) (3.7.1)\n",
            "Collecting fastapi<1.0,>=0.115.2 (from gradio)\n",
            "  Downloading fastapi-0.115.11-py3-none-any.whl.metadata (27 kB)\n",
            "Collecting ffmpy (from gradio)\n",
            "  Downloading ffmpy-0.5.0-py3-none-any.whl.metadata (3.0 kB)\n",
            "Collecting gradio-client==1.7.2 (from gradio)\n",
            "  Downloading gradio_client-1.7.2-py3-none-any.whl.metadata (7.1 kB)\n",
            "Collecting groovy~=0.1 (from gradio)\n",
            "  Downloading groovy-0.1.2-py3-none-any.whl.metadata (6.1 kB)\n",
            "Requirement already satisfied: httpx>=0.24.1 in /usr/local/lib/python3.11/dist-packages (from gradio) (0.28.1)\n",
            "Requirement already satisfied: huggingface-hub>=0.28.1 in /usr/local/lib/python3.11/dist-packages (from gradio) (0.28.1)\n",
            "Requirement already satisfied: jinja2<4.0 in /usr/local/lib/python3.11/dist-packages (from gradio) (3.1.5)\n",
            "Collecting markupsafe~=2.0 (from gradio)\n",
            "  Downloading MarkupSafe-2.1.5-cp311-cp311-manylinux_2_17_x86_64.manylinux2014_x86_64.whl.metadata (3.0 kB)\n",
            "Requirement already satisfied: numpy<3.0,>=1.0 in /usr/local/lib/python3.11/dist-packages (from gradio) (1.26.4)\n",
            "Requirement already satisfied: orjson~=3.0 in /usr/local/lib/python3.11/dist-packages (from gradio) (3.10.15)\n",
            "Requirement already satisfied: packaging in /usr/local/lib/python3.11/dist-packages (from gradio) (24.2)\n",
            "Requirement already satisfied: pandas<3.0,>=1.0 in /usr/local/lib/python3.11/dist-packages (from gradio) (2.2.2)\n",
            "Requirement already satisfied: pillow<12.0,>=8.0 in /usr/local/lib/python3.11/dist-packages (from gradio) (11.1.0)\n",
            "Requirement already satisfied: pydantic>=2.0 in /usr/local/lib/python3.11/dist-packages (from gradio) (2.10.6)\n",
            "Collecting pydub (from gradio)\n",
            "  Downloading pydub-0.25.1-py2.py3-none-any.whl.metadata (1.4 kB)\n",
            "Collecting python-multipart>=0.0.18 (from gradio)\n",
            "  Downloading python_multipart-0.0.20-py3-none-any.whl.metadata (1.8 kB)\n",
            "Requirement already satisfied: pyyaml<7.0,>=5.0 in /usr/local/lib/python3.11/dist-packages (from gradio) (6.0.2)\n",
            "Collecting ruff>=0.9.3 (from gradio)\n",
            "  Downloading ruff-0.9.10-py3-none-manylinux_2_17_x86_64.manylinux2014_x86_64.whl.metadata (25 kB)\n",
            "Collecting safehttpx<0.2.0,>=0.1.6 (from gradio)\n",
            "  Downloading safehttpx-0.1.6-py3-none-any.whl.metadata (4.2 kB)\n",
            "Collecting semantic-version~=2.0 (from gradio)\n",
            "  Downloading semantic_version-2.10.0-py2.py3-none-any.whl.metadata (9.7 kB)\n",
            "Collecting starlette<1.0,>=0.40.0 (from gradio)\n",
            "  Downloading starlette-0.46.0-py3-none-any.whl.metadata (6.2 kB)\n",
            "Collecting tomlkit<0.14.0,>=0.12.0 (from gradio)\n",
            "  Downloading tomlkit-0.13.2-py3-none-any.whl.metadata (2.7 kB)\n",
            "Requirement already satisfied: typer<1.0,>=0.12 in /usr/local/lib/python3.11/dist-packages (from gradio) (0.15.2)\n",
            "Requirement already satisfied: typing-extensions~=4.0 in /usr/local/lib/python3.11/dist-packages (from gradio) (4.12.2)\n",
            "Collecting uvicorn>=0.14.0 (from gradio)\n",
            "  Downloading uvicorn-0.34.0-py3-none-any.whl.metadata (6.5 kB)\n",
            "Requirement already satisfied: fsspec in /usr/local/lib/python3.11/dist-packages (from gradio-client==1.7.2->gradio) (2024.10.0)\n",
            "Requirement already satisfied: websockets<16.0,>=10.0 in /usr/local/lib/python3.11/dist-packages (from gradio-client==1.7.2->gradio) (14.2)\n",
            "Requirement already satisfied: idna>=2.8 in /usr/local/lib/python3.11/dist-packages (from anyio<5.0,>=3.0->gradio) (3.10)\n",
            "Requirement already satisfied: sniffio>=1.1 in /usr/local/lib/python3.11/dist-packages (from anyio<5.0,>=3.0->gradio) (1.3.1)\n",
            "Requirement already satisfied: certifi in /usr/local/lib/python3.11/dist-packages (from httpx>=0.24.1->gradio) (2025.1.31)\n",
            "Requirement already satisfied: httpcore==1.* in /usr/local/lib/python3.11/dist-packages (from httpx>=0.24.1->gradio) (1.0.7)\n",
            "Requirement already satisfied: h11<0.15,>=0.13 in /usr/local/lib/python3.11/dist-packages (from httpcore==1.*->httpx>=0.24.1->gradio) (0.14.0)\n",
            "Requirement already satisfied: filelock in /usr/local/lib/python3.11/dist-packages (from huggingface-hub>=0.28.1->gradio) (3.17.0)\n",
            "Requirement already satisfied: requests in /usr/local/lib/python3.11/dist-packages (from huggingface-hub>=0.28.1->gradio) (2.32.3)\n",
            "Requirement already satisfied: tqdm>=4.42.1 in /usr/local/lib/python3.11/dist-packages (from huggingface-hub>=0.28.1->gradio) (4.67.1)\n",
            "Requirement already satisfied: python-dateutil>=2.8.2 in /usr/local/lib/python3.11/dist-packages (from pandas<3.0,>=1.0->gradio) (2.8.2)\n",
            "Requirement already satisfied: pytz>=2020.1 in /usr/local/lib/python3.11/dist-packages (from pandas<3.0,>=1.0->gradio) (2025.1)\n",
            "Requirement already satisfied: tzdata>=2022.7 in /usr/local/lib/python3.11/dist-packages (from pandas<3.0,>=1.0->gradio) (2025.1)\n",
            "Requirement already satisfied: annotated-types>=0.6.0 in /usr/local/lib/python3.11/dist-packages (from pydantic>=2.0->gradio) (0.7.0)\n",
            "Requirement already satisfied: pydantic-core==2.27.2 in /usr/local/lib/python3.11/dist-packages (from pydantic>=2.0->gradio) (2.27.2)\n",
            "Requirement already satisfied: click>=8.0.0 in /usr/local/lib/python3.11/dist-packages (from typer<1.0,>=0.12->gradio) (8.1.8)\n",
            "Requirement already satisfied: shellingham>=1.3.0 in /usr/local/lib/python3.11/dist-packages (from typer<1.0,>=0.12->gradio) (1.5.4)\n",
            "Requirement already satisfied: rich>=10.11.0 in /usr/local/lib/python3.11/dist-packages (from typer<1.0,>=0.12->gradio) (13.9.4)\n",
            "Requirement already satisfied: six>=1.5 in /usr/local/lib/python3.11/dist-packages (from python-dateutil>=2.8.2->pandas<3.0,>=1.0->gradio) (1.17.0)\n",
            "Requirement already satisfied: markdown-it-py>=2.2.0 in /usr/local/lib/python3.11/dist-packages (from rich>=10.11.0->typer<1.0,>=0.12->gradio) (3.0.0)\n",
            "Requirement already satisfied: pygments<3.0.0,>=2.13.0 in /usr/local/lib/python3.11/dist-packages (from rich>=10.11.0->typer<1.0,>=0.12->gradio) (2.18.0)\n",
            "Requirement already satisfied: charset-normalizer<4,>=2 in /usr/local/lib/python3.11/dist-packages (from requests->huggingface-hub>=0.28.1->gradio) (3.4.1)\n",
            "Requirement already satisfied: urllib3<3,>=1.21.1 in /usr/local/lib/python3.11/dist-packages (from requests->huggingface-hub>=0.28.1->gradio) (2.3.0)\n",
            "Requirement already satisfied: mdurl~=0.1 in /usr/local/lib/python3.11/dist-packages (from markdown-it-py>=2.2.0->rich>=10.11.0->typer<1.0,>=0.12->gradio) (0.1.2)\n",
            "Downloading gradio-5.20.1-py3-none-any.whl (62.3 MB)\n",
            "\u001b[2K   \u001b[90m━━━━━━━━━━━━━━━━━━━━━━━━━━━━━━━━━━━━━━━━\u001b[0m \u001b[32m62.3/62.3 MB\u001b[0m \u001b[31m13.0 MB/s\u001b[0m eta \u001b[36m0:00:00\u001b[0m\n",
            "\u001b[?25hDownloading gradio_client-1.7.2-py3-none-any.whl (322 kB)\n",
            "\u001b[2K   \u001b[90m━━━━━━━━━━━━━━━━━━━━━━━━━━━━━━━━━━━━━━━━\u001b[0m \u001b[32m322.1/322.1 kB\u001b[0m \u001b[31m11.3 MB/s\u001b[0m eta \u001b[36m0:00:00\u001b[0m\n",
            "\u001b[?25hDownloading aiofiles-23.2.1-py3-none-any.whl (15 kB)\n",
            "Downloading fastapi-0.115.11-py3-none-any.whl (94 kB)\n",
            "\u001b[2K   \u001b[90m━━━━━━━━━━━━━━━━━━━━━━━━━━━━━━━━━━━━━━━━\u001b[0m \u001b[32m94.9/94.9 kB\u001b[0m \u001b[31m5.5 MB/s\u001b[0m eta \u001b[36m0:00:00\u001b[0m\n",
            "\u001b[?25hDownloading groovy-0.1.2-py3-none-any.whl (14 kB)\n",
            "Downloading MarkupSafe-2.1.5-cp311-cp311-manylinux_2_17_x86_64.manylinux2014_x86_64.whl (28 kB)\n",
            "Downloading python_multipart-0.0.20-py3-none-any.whl (24 kB)\n",
            "Downloading ruff-0.9.10-py3-none-manylinux_2_17_x86_64.manylinux2014_x86_64.whl (11.3 MB)\n",
            "\u001b[2K   \u001b[90m━━━━━━━━━━━━━━━━━━━━━━━━━━━━━━━━━━━━━━━━\u001b[0m \u001b[32m11.3/11.3 MB\u001b[0m \u001b[31m52.2 MB/s\u001b[0m eta \u001b[36m0:00:00\u001b[0m\n",
            "\u001b[?25hDownloading safehttpx-0.1.6-py3-none-any.whl (8.7 kB)\n",
            "Downloading semantic_version-2.10.0-py2.py3-none-any.whl (15 kB)\n",
            "Downloading starlette-0.46.0-py3-none-any.whl (71 kB)\n",
            "\u001b[2K   \u001b[90m━━━━━━━━━━━━━━━━━━━━━━━━━━━━━━━━━━━━━━━━\u001b[0m \u001b[32m72.0/72.0 kB\u001b[0m \u001b[31m1.1 MB/s\u001b[0m eta \u001b[36m0:00:00\u001b[0m\n",
            "\u001b[?25hDownloading tomlkit-0.13.2-py3-none-any.whl (37 kB)\n",
            "Downloading uvicorn-0.34.0-py3-none-any.whl (62 kB)\n",
            "\u001b[2K   \u001b[90m━━━━━━━━━━━━━━━━━━━━━━━━━━━━━━━━━━━━━━━━\u001b[0m \u001b[32m62.3/62.3 kB\u001b[0m \u001b[31m3.2 MB/s\u001b[0m eta \u001b[36m0:00:00\u001b[0m\n",
            "\u001b[?25hDownloading ffmpy-0.5.0-py3-none-any.whl (6.0 kB)\n",
            "Downloading pydub-0.25.1-py2.py3-none-any.whl (32 kB)\n",
            "Installing collected packages: pydub, uvicorn, tomlkit, semantic-version, ruff, python-multipart, markupsafe, groovy, ffmpy, aiofiles, starlette, safehttpx, gradio-client, fastapi, gradio\n",
            "  Attempting uninstall: markupsafe\n",
            "    Found existing installation: MarkupSafe 3.0.2\n",
            "    Uninstalling MarkupSafe-3.0.2:\n",
            "      Successfully uninstalled MarkupSafe-3.0.2\n",
            "\u001b[31mERROR: pip's dependency resolver does not currently take into account all the packages that are installed. This behaviour is the source of the following dependency conflicts.\n",
            "torch 2.5.1+cu124 requires nvidia-cublas-cu12==12.4.5.8; platform_system == \"Linux\" and platform_machine == \"x86_64\", but you have nvidia-cublas-cu12 12.5.3.2 which is incompatible.\n",
            "torch 2.5.1+cu124 requires nvidia-cuda-cupti-cu12==12.4.127; platform_system == \"Linux\" and platform_machine == \"x86_64\", but you have nvidia-cuda-cupti-cu12 12.5.82 which is incompatible.\n",
            "torch 2.5.1+cu124 requires nvidia-cuda-nvrtc-cu12==12.4.127; platform_system == \"Linux\" and platform_machine == \"x86_64\", but you have nvidia-cuda-nvrtc-cu12 12.5.82 which is incompatible.\n",
            "torch 2.5.1+cu124 requires nvidia-cuda-runtime-cu12==12.4.127; platform_system == \"Linux\" and platform_machine == \"x86_64\", but you have nvidia-cuda-runtime-cu12 12.5.82 which is incompatible.\n",
            "torch 2.5.1+cu124 requires nvidia-cudnn-cu12==9.1.0.70; platform_system == \"Linux\" and platform_machine == \"x86_64\", but you have nvidia-cudnn-cu12 9.3.0.75 which is incompatible.\n",
            "torch 2.5.1+cu124 requires nvidia-cufft-cu12==11.2.1.3; platform_system == \"Linux\" and platform_machine == \"x86_64\", but you have nvidia-cufft-cu12 11.2.3.61 which is incompatible.\n",
            "torch 2.5.1+cu124 requires nvidia-curand-cu12==10.3.5.147; platform_system == \"Linux\" and platform_machine == \"x86_64\", but you have nvidia-curand-cu12 10.3.6.82 which is incompatible.\n",
            "torch 2.5.1+cu124 requires nvidia-cusolver-cu12==11.6.1.9; platform_system == \"Linux\" and platform_machine == \"x86_64\", but you have nvidia-cusolver-cu12 11.6.3.83 which is incompatible.\n",
            "torch 2.5.1+cu124 requires nvidia-cusparse-cu12==12.3.1.170; platform_system == \"Linux\" and platform_machine == \"x86_64\", but you have nvidia-cusparse-cu12 12.5.1.3 which is incompatible.\n",
            "torch 2.5.1+cu124 requires nvidia-nvjitlink-cu12==12.4.127; platform_system == \"Linux\" and platform_machine == \"x86_64\", but you have nvidia-nvjitlink-cu12 12.5.82 which is incompatible.\u001b[0m\u001b[31m\n",
            "\u001b[0mSuccessfully installed aiofiles-23.2.1 fastapi-0.115.11 ffmpy-0.5.0 gradio-5.20.1 gradio-client-1.7.2 groovy-0.1.2 markupsafe-2.1.5 pydub-0.25.1 python-multipart-0.0.20 ruff-0.9.10 safehttpx-0.1.6 semantic-version-2.10.0 starlette-0.46.0 tomlkit-0.13.2 uvicorn-0.34.0\n"
          ]
        }
      ]
    },
    {
      "cell_type": "code",
      "source": [
        "import hashlib  # Import hashlib for SHA-256 hashing"
      ],
      "metadata": {
        "id": "yEas_GLe_hIm"
      },
      "execution_count": 3,
      "outputs": []
    },
    {
      "cell_type": "markdown",
      "source": [
        "## **2. Creating a Function to Hash Blocks**\n",
        "- Define `hash_block()` to generate a SHA-256 hash based on block details.\n",
        "- This ensures every block has a unique fingerprint.\n",
        "\n"
      ],
      "metadata": {
        "id": "A1E27wsR_oTo"
      }
    },
    {
      "cell_type": "code",
      "source": [
        "def hash_block(index, previous_hash, data):\n",
        "    \"\"\"Generates SHA-256 hash for a blockchain block\"\"\"\n",
        "    block_string = f\"{index}{previous_hash}{data}\"\n",
        "    return hashlib.sha256(block_string.encode()).hexdigest()"
      ],
      "metadata": {
        "id": "gd2P9Fz5_i9L"
      },
      "execution_count": 4,
      "outputs": []
    },
    {
      "cell_type": "markdown",
      "source": [
        "## **3. Creating the Genesis Block (Block 1)**\n",
        "- Set up the first block in the chain.\n",
        "- The `previous_hash` is `\"0\"` since no block precedes it.\n",
        "- Compute the hash for this block.\n"
      ],
      "metadata": {
        "id": "FUo4WcSu_t3X"
      }
    },
    {
      "cell_type": "code",
      "source": [
        "block1 = {\n",
        "    \"index\": 1,\n",
        "    \"previous_hash\": \"0\",  # No previous block for the genesis block\n",
        "    \"data\": \"Alice pays Bob 10 BTC\",\n",
        "}\n",
        "block1[\"hash\"] = hash_block(block1[\"index\"], block1[\"previous_hash\"], block1[\"data\"])\n",
        "\n",
        "print(\"Genesis Block:\")\n",
        "print(block1)"
      ],
      "metadata": {
        "colab": {
          "base_uri": "https://localhost:8080/"
        },
        "id": "Q7VYrfSp_jSU",
        "outputId": "b55f9a47-73d2-4c19-b93b-e82567219b7a"
      },
      "execution_count": 9,
      "outputs": [
        {
          "output_type": "stream",
          "name": "stdout",
          "text": [
            "Genesis Block:\n",
            "{'index': 1, 'previous_hash': '0', 'data': 'Alice pays Bob 10 BTC', 'hash': '650786a8f1498ae4499b127eb4823111cfab6d31f0e33e3038f7dea9f2477c94'}\n"
          ]
        }
      ]
    },
    {
      "cell_type": "markdown",
      "source": [
        "## **4. Creating Block 2 and Linking It to Block 1**\n",
        "- Define Block 2 and reference Block 1’s hash.\n",
        "- Compute Block 2’s hash to maintain the chain.\n"
      ],
      "metadata": {
        "id": "2ddpAtjk_zT1"
      }
    },
    {
      "cell_type": "code",
      "source": [
        "block2 = {\n",
        "    \"index\": 2,\n",
        "    \"previous_hash\": block1[\"hash\"],\n",
        "    \"data\": \"Bob pays Charlie 5 BTC\",\n",
        "}\n",
        "block2[\"hash\"] = hash_block(block2[\"index\"], block2[\"previous_hash\"], block2[\"data\"])\n",
        "\n",
        "print(\"\\nBlock 2:\")\n",
        "print(block2)"
      ],
      "metadata": {
        "colab": {
          "base_uri": "https://localhost:8080/"
        },
        "id": "GzQhy0FL_wh1",
        "outputId": "827e1b0e-7752-4859-f135-536c4e37311f"
      },
      "execution_count": 10,
      "outputs": [
        {
          "output_type": "stream",
          "name": "stdout",
          "text": [
            "\n",
            "Block 2:\n",
            "{'index': 2, 'previous_hash': '650786a8f1498ae4499b127eb4823111cfab6d31f0e33e3038f7dea9f2477c94', 'data': 'Bob pays Charlie 5 BTC', 'hash': 'd52173e28443702d8c73f3152086dcaf00b0db123a920c0eb3b9bdd420839aac'}\n"
          ]
        }
      ]
    },
    {
      "cell_type": "markdown",
      "source": [
        "\n",
        "## **5. Simulating Tampering**\n",
        "- Modify the data in Block 1.\n",
        "- Recalculate its hash to see how the change breaks the chain.\n",
        "- Demonstrates why blockchains are immutable."
      ],
      "metadata": {
        "id": "KdK7fCLB_6Mg"
      }
    },
    {
      "cell_type": "code",
      "source": [
        "print(\"\\nTampering with Block 1...\")\n",
        "block1[\"data\"] = \"Alice pays Eve 50 BTC\"  # Data modification (Attack!)\n",
        "block1[\"hash\"] = hash_block(block1[\"index\"], block1[\"previous_hash\"], block1[\"data\"])\n",
        "\n",
        "print(\"\\nAfter Tampering:\")\n",
        "print(block1)\n",
        "print(block2)"
      ],
      "metadata": {
        "colab": {
          "base_uri": "https://localhost:8080/"
        },
        "id": "uE5tLfQz_4R_",
        "outputId": "906efe34-6b57-4619-b762-cabb479cb19a"
      },
      "execution_count": 11,
      "outputs": [
        {
          "output_type": "stream",
          "name": "stdout",
          "text": [
            "\n",
            "Tampering with Block 1...\n",
            "\n",
            "After Tampering:\n",
            "{'index': 1, 'previous_hash': '0', 'data': 'Alice pays Eve 50 BTC', 'hash': '893f8f9b48816ca88d39eb7393e38ef6a7e9799c6f7f269cdb82267e74816922'}\n",
            "{'index': 2, 'previous_hash': '650786a8f1498ae4499b127eb4823111cfab6d31f0e33e3038f7dea9f2477c94', 'data': 'Bob pays Charlie 5 BTC', 'hash': 'd52173e28443702d8c73f3152086dcaf00b0db123a920c0eb3b9bdd420839aac'}\n"
          ]
        }
      ]
    },
    {
      "cell_type": "markdown",
      "source": [
        "## **6. Checking Blockchain Integrity**\n",
        "- Implement `validate_chain()` to verify the integrity of the blockchain.\n",
        "- Ensure every block correctly references the previous block’s hash."
      ],
      "metadata": {
        "id": "n6vfPvA5_-76"
      }
    },
    {
      "cell_type": "code",
      "source": [
        "def validate_chain(blocks):\n",
        "    \"\"\"Validates blockchain integrity by checking previous hashes\"\"\"\n",
        "    for i in range(1, len(blocks)):\n",
        "        if blocks[i][\"previous_hash\"] != blocks[i-1][\"hash\"]:\n",
        "            return False\n",
        "    return True\n",
        "\n",
        "blockchain = [block1, block2]\n",
        "print(\"\\nBlockchain Validation:\", \"Valid\" if validate_chain(blockchain) else \"Broken!\")"
      ],
      "metadata": {
        "colab": {
          "base_uri": "https://localhost:8080/"
        },
        "id": "GkLDXvv7_8db",
        "outputId": "549c7bcd-a07b-4f6d-fd42-71410cb4e83a"
      },
      "execution_count": 12,
      "outputs": [
        {
          "output_type": "stream",
          "name": "stdout",
          "text": [
            "\n",
            "Blockchain Validation: Broken!\n"
          ]
        }
      ]
    },
    {
      "cell_type": "markdown",
      "source": [
        "## **7. Adding a New Block to the Chain**\n",
        "- Introduce Block 3, linked to Block 2.\n",
        "- Compute its hash and append it to the blockchain.\n"
      ],
      "metadata": {
        "id": "FC06pGKuAFrQ"
      }
    },
    {
      "cell_type": "code",
      "source": [
        "block3 = {\n",
        "    \"index\": 3,\n",
        "    \"previous_hash\": block2[\"hash\"],\n",
        "    \"data\": \"Charlie pays David 2 BTC\",\n",
        "}\n",
        "block3[\"hash\"] = hash_block(block3[\"index\"], block3[\"previous_hash\"], block3[\"data\"])\n",
        "\n",
        "print(\"\\nNew Blockchain with Block 3:\")\n",
        "print(block3)"
      ],
      "metadata": {
        "colab": {
          "base_uri": "https://localhost:8080/"
        },
        "id": "kfu8RAFlACCl",
        "outputId": "43064d12-35c2-4abb-b16f-1b846a14e8c9"
      },
      "execution_count": 13,
      "outputs": [
        {
          "output_type": "stream",
          "name": "stdout",
          "text": [
            "\n",
            "New Blockchain with Block 3:\n",
            "{'index': 3, 'previous_hash': 'd52173e28443702d8c73f3152086dcaf00b0db123a920c0eb3b9bdd420839aac', 'data': 'Charlie pays David 2 BTC', 'hash': 'a620d4fe40427e112629ab9e628d8524ab22d702427d4efa449ec70bb32bc019'}\n"
          ]
        }
      ]
    },
    {
      "cell_type": "markdown",
      "source": [
        "## **8. Implementing Proof of Work (Mining Simulation)**\n",
        "- Modify the hashing function to enforce a condition (`hash` starts with `\"00\"`).\n",
        "- Iterate with a `nonce` until the condition is met.\n",
        "- Simulates blockchain mining."
      ],
      "metadata": {
        "id": "VIXOb7kdAJvr"
      }
    },
    {
      "cell_type": "code",
      "source": [
        "def proof_of_work(index, previous_hash, data):\n",
        "    \"\"\"Proof of Work: Find a hash starting with '00'\"\"\"\n",
        "    nonce = 0\n",
        "    while True:\n",
        "        block_string = f\"{index}{previous_hash}{data}{nonce}\"\n",
        "        block_hash = hashlib.sha256(block_string.encode()).hexdigest()\n",
        "        if block_hash.startswith(\"00\"):  # Simulating mining condition\n",
        "            return block_hash, nonce\n",
        "        nonce += 1\n",
        "\n",
        "block3[\"hash\"], block3[\"nonce\"] = proof_of_work(block3[\"index\"], block3[\"previous_hash\"], block3[\"data\"])\n",
        "print(\"\\nBlock 3 with Proof of Work:\")\n",
        "print(block3)"
      ],
      "metadata": {
        "colab": {
          "base_uri": "https://localhost:8080/"
        },
        "id": "pNDfFupJAHrQ",
        "outputId": "b97bf0bb-a768-4f9e-9bd7-dce399bc5fbf"
      },
      "execution_count": 14,
      "outputs": [
        {
          "output_type": "stream",
          "name": "stdout",
          "text": [
            "\n",
            "Block 3 with Proof of Work:\n",
            "{'index': 3, 'previous_hash': 'd52173e28443702d8c73f3152086dcaf00b0db123a920c0eb3b9bdd420839aac', 'data': 'Charlie pays David 2 BTC', 'hash': '00d92f263f746a4f79b60914f1eee55cad2195db20209590bb5bbcc477aa5cf0', 'nonce': 187}\n"
          ]
        }
      ]
    },
    {
      "cell_type": "markdown",
      "source": [
        "## **9. Final Blockchain Validation**\n",
        "- Append Block 3 to the chain.\n",
        "- Run `validate_chain()` to check the overall integrity."
      ],
      "metadata": {
        "id": "0n6ose-mANqo"
      }
    },
    {
      "cell_type": "code",
      "source": [
        "blockchain.append(block3)\n",
        "print(\"\\nFinal Blockchain Validation:\", \"Valid\" if validate_chain(blockchain) else \"Broken!\")\n"
      ],
      "metadata": {
        "colab": {
          "base_uri": "https://localhost:8080/"
        },
        "id": "RUzHe4FaALXQ",
        "outputId": "474bf918-67e0-4190-baf3-9040daa999fc"
      },
      "execution_count": 15,
      "outputs": [
        {
          "output_type": "stream",
          "name": "stdout",
          "text": [
            "\n",
            "Final Blockchain Validation: Broken!\n"
          ]
        }
      ]
    },
    {
      "cell_type": "markdown",
      "source": [
        "## **Key Takeaways**\n",
        "✅ Each block contains a hash that links it to the previous block.\n",
        "\n",
        "✅ Changing a block’s data breaks the chain, proving immutability.\n",
        "\n",
        "✅ Proof of Work (PoW) ensures computational effort in mining.\n",
        "\n",
        "✅ Blockchain validation helps detect tampering and ensures security.\n"
      ],
      "metadata": {
        "id": "loYq_8yZBNZj"
      }
    },
    {
      "cell_type": "code",
      "source": [
        "import gradio as gr\n",
        "import hashlib\n",
        "\n",
        "# Function to generate SHA-256 hash for a blockchain block\n",
        "def hash_block(index, previous_hash, data):\n",
        "    block_string = f\"{index}{previous_hash}{data}\"\n",
        "    return hashlib.sha256(block_string.encode()).hexdigest()\n",
        "\n",
        "# Function to simulate blockchain hashing\n",
        "def blockchain_simulation(index, previous_hash, data):\n",
        "    block_hash = hash_block(index, previous_hash, data)\n",
        "    return f\"Block {index}\\nPrevious Hash: {previous_hash}\\nData: {data}\\nHash: {block_hash}\"\n",
        "\n",
        "# Gradio Interface\n",
        "blockchain_ui = gr.Interface(\n",
        "    fn=blockchain_simulation,\n",
        "    inputs=[\n",
        "        gr.Number(label=\"Block Index\"),\n",
        "        gr.Textbox(label=\"Previous Block Hash\"),\n",
        "        gr.Textbox(label=\"Block Data\")\n",
        "    ],\n",
        "    outputs=gr.Textbox(label=\"Blockchain Block Output\"),\n",
        "    title=\"Blockchain Hashing Simulation\",\n",
        "    description=\"Enter block details to compute and visualize a hashed blockchain block.\"\n",
        ")\n",
        "\n",
        "# Launch the Gradio UI\n",
        "blockchain_ui.launch()"
      ],
      "metadata": {
        "colab": {
          "base_uri": "https://localhost:8080/",
          "height": 626
        },
        "id": "EvXZcDHNBzrl",
        "outputId": "66965cb9-c275-41e6-fa73-38a5c8ae753c"
      },
      "execution_count": 16,
      "outputs": [
        {
          "output_type": "stream",
          "name": "stdout",
          "text": [
            "Running Gradio in a Colab notebook requires sharing enabled. Automatically setting `share=True` (you can turn this off by setting `share=False` in `launch()` explicitly).\n",
            "\n",
            "Colab notebook detected. To show errors in colab notebook, set debug=True in launch()\n",
            "* Running on public URL: https://8c48418b18a0bf1ea5.gradio.live\n",
            "\n",
            "This share link expires in 72 hours. For free permanent hosting and GPU upgrades, run `gradio deploy` from the terminal in the working directory to deploy to Hugging Face Spaces (https://huggingface.co/spaces)\n"
          ]
        },
        {
          "output_type": "display_data",
          "data": {
            "text/plain": [
              "<IPython.core.display.HTML object>"
            ],
            "text/html": [
              "<div><iframe src=\"https://8c48418b18a0bf1ea5.gradio.live\" width=\"100%\" height=\"500\" allow=\"autoplay; camera; microphone; clipboard-read; clipboard-write;\" frameborder=\"0\" allowfullscreen></iframe></div>"
            ]
          },
          "metadata": {}
        },
        {
          "output_type": "execute_result",
          "data": {
            "text/plain": []
          },
          "metadata": {},
          "execution_count": 16
        }
      ]
    },
    {
      "cell_type": "markdown",
      "source": [
        "# Challenge I:"
      ],
      "metadata": {
        "id": "8eYUS8xpBYWE"
      }
    },
    {
      "cell_type": "markdown",
      "source": [
        "## 📌 Activity: Blockchain Fraud Detection with Gradio\n",
        "\n",
        "##### Participants will build a blockchain simulation as many as they can with blocks and create an interactive Gradio UI to visualize the blockchain, detect inconsistencies, and simulate fraud. They will modify a block's data, observe how it affects the entire chain, and implement a fraud detection mechanism to identify tampered blocks. 🚀"
      ],
      "metadata": {
        "id": "yBHBS7inCUHo"
      }
    },
    {
      "cell_type": "code",
      "source": [
        "import hashlib  # Import hashlib for SHA-256 hashing\n",
        "import gradio as gr\n",
        "import hashlib\n",
        "\n",
        "# Function to generate SHA-256 hash for a blockchain block\n",
        "def hash_block(index, previous_hash, data):\n",
        "    block_string = f\"{index}{previous_hash}{data}\"\n",
        "    return hashlib.sha256(block_string.encode()).hexdigest()\n",
        "\n",
        "# Function to simulate blockchain hashing\n",
        "def blockchain_simulation(index, previous_hash, data):\n",
        "    block_hash = hash_block(index, previous_hash, data)\n",
        "    return f\"Block {index}\\nPrevious Hash: {previous_hash}\\nData: {data}\\nHash: {block_hash}\"\n",
        "\n",
        "def hash_block(index, previous_hash, data):\n",
        "  \"\"\"Generates SHA-256 hash for a blockchain block\"\"\"\n",
        "  block_string = f\"{index}{previous_hash}{data}\"\n",
        "  return hashlib.sha256(block_string.encode()).hexdigest()\n",
        "\n",
        "# Function to validate block chain\n",
        "def validate_chain(blocks):\n",
        "  \"\"\"Validates blockchain integrity by checking previous hashes\"\"\"\n",
        "  for i in range(1, len(blocks)):\n",
        "      if blocks[i][\"previous_hash\"] != blocks[i-1][\"hash\"]:\n",
        "          return False\n",
        "      elif hashHolder[i] != blocks[i][\"hash\"]:\n",
        "          return False\n",
        "  return True\n",
        "\n",
        "def proof_of_work(index, previous_hash, data):\n",
        "  \"\"\"Proof of Work: Find a hash starting with '00'\"\"\"\n",
        "  nonce = 0\n",
        "  while True:\n",
        "      block_string = f\"{index}{previous_hash}{data}{nonce}\"\n",
        "      block_hash = hashlib.sha256(block_string.encode()).hexdigest()\n",
        "      if block_hash.startswith(\"00\"):  # Simulating mining condition\n",
        "          return block_hash, nonce\n",
        "      nonce += 1\n",
        "\n",
        "hashHolder = []\n",
        "\n",
        "block1 = {\n",
        "  \"index\": 1,\n",
        "  \"previous_hash\": \"0\",  # No previous block for the genesis block\n",
        "  \"data\": \"Ben Cashed In $500 to GCash\",\n",
        "}\n",
        "block1[\"hash\"] = hash_block(block1[\"index\"], block1[\"previous_hash\"], block1[\"data\"])\n",
        "hashHolder.insert(block1[\"index\"]-1, block1[\"hash\"])\n",
        "\n",
        "print(\"Genesis Block:\")\n",
        "print(block1)\n",
        "\n",
        "block2 = {\n",
        "    \"index\": 2,\n",
        "    \"previous_hash\": block1[\"hash\"],\n",
        "    \"data\": \"Ben Tops up $500 to Playtime using Gcash\",\n",
        "}\n",
        "block2[\"hash\"] = hash_block(block2[\"index\"], block2[\"previous_hash\"], block2[\"data\"])\n",
        "hashHolder.insert(block2[\"index\"]-1, block2[\"hash\"])\n",
        "\n",
        "print(\"\\nBlock 2:\")\n",
        "print(block2)\n",
        "\n",
        "block3 = {\n",
        "  \"index\": 3,\n",
        "  \"previous_hash\": block2[\"hash\"],\n",
        "  \"data\": \"Ben gambles $3 per spin in Superace\",\n",
        "}\n",
        "block3[\"hash\"] = hash_block(block3[\"index\"], block3[\"previous_hash\"], block3[\"data\"])\n",
        "hashHolder.insert(block3[\"index\"]-1, block3[\"hash\"])\n",
        "\n",
        "print(\"\\nBlock 3:\")\n",
        "print(block3)\n",
        "\n",
        "# Verifying BlockChain\n",
        "print(\"\\nCreated Blocks\")\n",
        "print(block1)\n",
        "print(block2)\n",
        "print(block3)\n",
        "print(\"\\nHash history of created blocks\")\n",
        "print(hashHolder)\n",
        "\n",
        "# Data Tampering\n",
        "print(\"\\nTampering with Block 3...\")\n",
        "block3[\"data\"] = \"Ben quits gambling forever.\"  # Data modification (Attack!)\n",
        "block3[\"hash\"] = hash_block(block3[\"index\"], block3[\"previous_hash\"], block2[\"data\"])\n",
        "\n",
        "print(\"\\nAfter Tampering:\")\n",
        "print(block1)\n",
        "print(block2)\n",
        "print(block3)\n",
        "\n",
        "block3[\"hash\"], block3[\"nonce\"] = proof_of_work(block3[\"index\"], block3[\"previous_hash\"], block3[\"data\"])\n",
        "print(\"\\nBlock 3 with Proof of Work:\")\n",
        "print(block3)\n",
        "\n",
        "blockchain = [block1, block2]\n",
        "blockchain.append(block3)\n",
        "print(\"\\nFinal Blockchain Validation:\", \"Valid\" if validate_chain(blockchain) else \"Broken!\")\n",
        "\n",
        "\n",
        "# Gradio Interface\n",
        "blockchain_ui = gr.Interface(\n",
        "    fn=blockchain_simulation,\n",
        "    inputs=[\n",
        "        gr.Number(label=\"Block Index\"),\n",
        "        gr.Textbox(label=\"Previous Block Hash\"),\n",
        "        gr.Textbox(label=\"Block Data\")\n",
        "    ],\n",
        "    outputs=gr.Textbox(label=\"Blockchain Block Output\"),\n",
        "    title=\"Blockchain Hashing Simulation\",\n",
        "    description=\"Enter block details to compute and visualize a hashed blockchain block.\"\n",
        ")\n",
        "\n",
        "# Launch the Gradio UI\n",
        "blockchain_ui.launch()\n",
        "\n",
        "\n"
      ],
      "metadata": {
        "id": "fsHNXHgKCYQt",
        "colab": {
          "base_uri": "https://localhost:8080/",
          "height": 1000
        },
        "outputId": "3dea6ba4-f337-4009-8f37-8bbcc92996ef"
      },
      "execution_count": 17,
      "outputs": [
        {
          "output_type": "stream",
          "name": "stdout",
          "text": [
            "Genesis Block:\n",
            "{'index': 1, 'previous_hash': '0', 'data': 'Ben Cashed In $500 to GCash', 'hash': '242e02485c1d3f481ae5817c2a7b02fa9e9d934080840e23b8b38cd9666b3bda'}\n",
            "\n",
            "Block 2:\n",
            "{'index': 2, 'previous_hash': '242e02485c1d3f481ae5817c2a7b02fa9e9d934080840e23b8b38cd9666b3bda', 'data': 'Ben Tops up $500 to Playtime using Gcash', 'hash': '579a74f35ebc3c4fd66455a1b057be50b02229088d97f3f9f7929b1a6632c3a6'}\n",
            "\n",
            "Block 3:\n",
            "{'index': 3, 'previous_hash': '579a74f35ebc3c4fd66455a1b057be50b02229088d97f3f9f7929b1a6632c3a6', 'data': 'Ben gambles $3 per spin in Superace', 'hash': '46aca71400b2cf89b2112a6905295d118f2e6a575ac0aa4a40f76b9492a8792e'}\n",
            "\n",
            "Created Blocks\n",
            "{'index': 1, 'previous_hash': '0', 'data': 'Ben Cashed In $500 to GCash', 'hash': '242e02485c1d3f481ae5817c2a7b02fa9e9d934080840e23b8b38cd9666b3bda'}\n",
            "{'index': 2, 'previous_hash': '242e02485c1d3f481ae5817c2a7b02fa9e9d934080840e23b8b38cd9666b3bda', 'data': 'Ben Tops up $500 to Playtime using Gcash', 'hash': '579a74f35ebc3c4fd66455a1b057be50b02229088d97f3f9f7929b1a6632c3a6'}\n",
            "{'index': 3, 'previous_hash': '579a74f35ebc3c4fd66455a1b057be50b02229088d97f3f9f7929b1a6632c3a6', 'data': 'Ben gambles $3 per spin in Superace', 'hash': '46aca71400b2cf89b2112a6905295d118f2e6a575ac0aa4a40f76b9492a8792e'}\n",
            "\n",
            "Hash history of created blocks\n",
            "['242e02485c1d3f481ae5817c2a7b02fa9e9d934080840e23b8b38cd9666b3bda', '579a74f35ebc3c4fd66455a1b057be50b02229088d97f3f9f7929b1a6632c3a6', '46aca71400b2cf89b2112a6905295d118f2e6a575ac0aa4a40f76b9492a8792e']\n",
            "\n",
            "Tampering with Block 3...\n",
            "\n",
            "After Tampering:\n",
            "{'index': 1, 'previous_hash': '0', 'data': 'Ben Cashed In $500 to GCash', 'hash': '242e02485c1d3f481ae5817c2a7b02fa9e9d934080840e23b8b38cd9666b3bda'}\n",
            "{'index': 2, 'previous_hash': '242e02485c1d3f481ae5817c2a7b02fa9e9d934080840e23b8b38cd9666b3bda', 'data': 'Ben Tops up $500 to Playtime using Gcash', 'hash': '579a74f35ebc3c4fd66455a1b057be50b02229088d97f3f9f7929b1a6632c3a6'}\n",
            "{'index': 3, 'previous_hash': '579a74f35ebc3c4fd66455a1b057be50b02229088d97f3f9f7929b1a6632c3a6', 'data': 'Ben quits gambling forever.', 'hash': 'bf3f907ab293857ae541b7c90e3509970b2eaa87d1a01d0016709866bbf95652'}\n",
            "\n",
            "Block 3 with Proof of Work:\n",
            "{'index': 3, 'previous_hash': '579a74f35ebc3c4fd66455a1b057be50b02229088d97f3f9f7929b1a6632c3a6', 'data': 'Ben quits gambling forever.', 'hash': '0004353392e6cf0ddcae80affffe9e1c7d4363cf7768739be9268c1cf4849e07', 'nonce': 99}\n",
            "\n",
            "Final Blockchain Validation: Broken!\n",
            "Running Gradio in a Colab notebook requires sharing enabled. Automatically setting `share=True` (you can turn this off by setting `share=False` in `launch()` explicitly).\n",
            "\n",
            "Colab notebook detected. To show errors in colab notebook, set debug=True in launch()\n",
            "* Running on public URL: https://9435d849f725a58e83.gradio.live\n",
            "\n",
            "This share link expires in 72 hours. For free permanent hosting and GPU upgrades, run `gradio deploy` from the terminal in the working directory to deploy to Hugging Face Spaces (https://huggingface.co/spaces)\n"
          ]
        },
        {
          "output_type": "display_data",
          "data": {
            "text/plain": [
              "<IPython.core.display.HTML object>"
            ],
            "text/html": [
              "<div><iframe src=\"https://9435d849f725a58e83.gradio.live\" width=\"100%\" height=\"500\" allow=\"autoplay; camera; microphone; clipboard-read; clipboard-write;\" frameborder=\"0\" allowfullscreen></iframe></div>"
            ]
          },
          "metadata": {}
        },
        {
          "output_type": "execute_result",
          "data": {
            "text/plain": []
          },
          "metadata": {},
          "execution_count": 17
        }
      ]
    },
    {
      "cell_type": "code",
      "source": [],
      "metadata": {
        "id": "5qsH9GVis7Zh"
      },
      "execution_count": null,
      "outputs": []
    }
  ]
}